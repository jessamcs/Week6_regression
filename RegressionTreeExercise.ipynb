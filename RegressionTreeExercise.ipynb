{
  "nbformat": 4,
  "nbformat_minor": 0,
  "metadata": {
    "colab": {
      "name": "RegressionTreeExercise.ipynb",
      "provenance": [],
      "authorship_tag": "ABX9TyOEhTPg1SgrM94rRr2sLjH2",
      "include_colab_link": true
    },
    "kernelspec": {
      "name": "python3",
      "display_name": "Python 3"
    },
    "language_info": {
      "name": "python"
    }
  },
  "cells": [
    {
      "cell_type": "markdown",
      "metadata": {
        "id": "view-in-github",
        "colab_type": "text"
      },
      "source": [
        "<a href=\"https://colab.research.google.com/github/jessamcs/Week6_regression/blob/main/RegressionTreeExercise.ipynb\" target=\"_parent\"><img src=\"https://colab.research.google.com/assets/colab-badge.svg\" alt=\"Open In Colab\"/></a>"
      ]
    },
    {
      "cell_type": "code",
      "execution_count": 22,
      "metadata": {
        "colab": {
          "base_uri": "https://localhost:8080/"
        },
        "id": "jMKHA6Qf9gUT",
        "outputId": "67fc8016-dab5-4075-9823-26168edcf6e3"
      },
      "outputs": [
        {
          "output_type": "stream",
          "name": "stdout",
          "text": [
            "      CRIM    NOX     RM   AGE  PTRATIO  LSTAT  PRICE\n",
            "0  0.00632  0.538  6.575  65.2     15.3   4.98   24.0\n",
            "1  0.02731  0.469  6.421  78.9     17.8   9.14   21.6\n",
            "2  0.02729  0.469  7.185  61.1     17.8   4.03   34.7\n",
            "3  0.03237  0.458  6.998  45.8     18.7   2.94   33.4\n",
            "4  0.06905  0.458  7.147  54.2     18.7   5.33   36.2\n"
          ]
        }
      ],
      "source": [
        " #Run a regression tree model with default parameters (unlimited depth)\n",
        " #Determine the depth of the default tree.\n",
        " #Try different values for max_depth and determine the optimal value based on the best (highest) r2 value. \n",
        " #What is the optimal max_depth based on your trials?\n",
        " #What is the r2 of your final model on the training set and on the test set?\n",
        " # Importing the libraries \n",
        "import pandas as pd\n",
        "from pandas import read_csv\n",
        "import numpy as np\n",
        "from sklearn import metrics\n",
        "import matplotlib.pyplot as plt\n",
        "import seaborn as sns\n",
        "%matplotlib inline\n",
        "from sklearn.model_selection import train_test_split\n",
        "\n",
        "#Regression Tree\n",
        "from sklearn.tree import DecisionTreeRegressor\n",
        "reg = DecisionTreeRegressor(random_state = 0) \n",
        "reg.fit(X, y)\n",
        "\n",
        "from sklearn.metrics import r2_score\n",
        "from sklearn import metrics\n",
        "\n",
        "data= read_csv('/content/Boston_Housing_from_Sklearn.csv')\n",
        "print(data.head(5))"
      ]
    },
    {
      "cell_type": "code",
      "source": [
        "y = data['PRICE']\n",
        "X = data.drop(columns = 'PRICE')\n",
        "X_train, X_test, y_train, y_test = train_test_split(X, y, random_state=42)\n",
        "dec_tree = DecisionTreeRegressor(random_state = 42)\n",
        "\n"
      ],
      "metadata": {
        "id": "QduE34GBB_I7"
      },
      "execution_count": 13,
      "outputs": []
    },
    {
      "cell_type": "code",
      "source": [
        "dec_tree.fit(X_train, y_train)\n",
        "train_preds = dec_tree.predict(X_train)\n",
        "test_preds = dec_tree.predict(X_test)"
      ],
      "metadata": {
        "id": "AAqjZSThCfOd"
      },
      "execution_count": 14,
      "outputs": []
    },
    {
      "cell_type": "code",
      "source": [
        "train_score = dec_tree.score(X_train, y_train)\n",
        "test_score = dec_tree.score(X_test, y_test)\n",
        "print(train_score)\n",
        "print(test_score)"
      ],
      "metadata": {
        "colab": {
          "base_uri": "https://localhost:8080/"
        },
        "id": "UiLOfl7QCv6D",
        "outputId": "c379fb06-7a39-4b6b-e6e7-6dc232ca1716"
      },
      "execution_count": 15,
      "outputs": [
        {
          "output_type": "stream",
          "name": "stdout",
          "text": [
            "1.0\n",
            "0.6193230918136841\n"
          ]
        }
      ]
    },
    {
      "cell_type": "code",
      "source": [
        "#Default Depth\n",
        "dec_tree.get_depth()"
      ],
      "metadata": {
        "colab": {
          "base_uri": "https://localhost:8080/"
        },
        "id": "GogMZWyRC7aL",
        "outputId": "4673b281-7eb8-4f78-8667-3e59e7d39a6d"
      },
      "execution_count": 16,
      "outputs": [
        {
          "output_type": "execute_result",
          "data": {
            "text/plain": [
              "20"
            ]
          },
          "metadata": {},
          "execution_count": 16
        }
      ]
    },
    {
      "cell_type": "code",
      "source": [
        "dec_tree_2 = DecisionTreeRegressor(max_depth = 2, random_state = 42)\n",
        "dec_tree_2.fit(X_train, y_train)\n",
        "train_2_score = dec_tree_2.score(X_train, y_train)\n",
        "test_2_score = dec_tree_2.score(X_test, y_test)\n",
        "print(train_2_score)\n",
        "print(test_2_score)"
      ],
      "metadata": {
        "colab": {
          "base_uri": "https://localhost:8080/"
        },
        "id": "uwLsgxSNDE6E",
        "outputId": "7ec66eff-c47c-454c-cad0-7b3874b6fd79"
      },
      "execution_count": 17,
      "outputs": [
        {
          "output_type": "stream",
          "name": "stdout",
          "text": [
            "0.7089458256236383\n",
            "0.6370379660938668\n"
          ]
        }
      ]
    },
    {
      "cell_type": "code",
      "source": [
        "dec_tree_15 = DecisionTreeRegressor(max_depth = 15, random_state = 42)\n",
        "dec_tree_15.fit(X_train, y_train)\n",
        "train_15_score = dec_tree_15.score(X_train, y_train)\n",
        "test_15_score = dec_tree_15.score(X_test, y_test)\n",
        "print(train_15_score)\n",
        "print(test_15_score)"
      ],
      "metadata": {
        "colab": {
          "base_uri": "https://localhost:8080/"
        },
        "id": "NVDeaXFSDNj9",
        "outputId": "45200c3e-04b3-4eef-af22-1994951c58f2"
      },
      "execution_count": 18,
      "outputs": [
        {
          "output_type": "stream",
          "name": "stdout",
          "text": [
            "0.999476270721798\n",
            "0.7338563810264247\n"
          ]
        }
      ]
    },
    {
      "cell_type": "code",
      "source": [
        "max_depth_range = list(range(2, 36))\n",
        "\n",
        "#R^2\n",
        "r2 = []\n",
        "for depth in max_depth_range:\n",
        "    dec_tree = DecisionTreeRegressor(max_depth = depth, \n",
        "                             random_state = 42)\n",
        "    dec_tree.fit(X_train, y_train)\n",
        "    score = dec_tree.score(X_test, y_test)\n",
        "    r2.append(score)\n",
        "\n",
        "# Visualize which max_depth leads to the highest r2 score\n",
        "plt.plot(max_depth_range, r2)\n",
        "plt.xlabel('max_depth')\n",
        "plt.ylabel('R2');"
      ],
      "metadata": {
        "colab": {
          "base_uri": "https://localhost:8080/",
          "height": 280
        },
        "id": "L_wTYDeyDT-Y",
        "outputId": "03c2bc10-51d0-4d47-d9ad-8f597a9a1040"
      },
      "execution_count": 19,
      "outputs": [
        {
          "output_type": "display_data",
          "data": {
            "image/png": "[encoded data removed]",
            "text/plain": [
              "<Figure size 432x288 with 1 Axes>"
            ]
          },
          "metadata": {
            "needs_background": "light"
          }
        }
      ]
    },
    {
      "cell_type": "code",
      "source": [
        "# Run the model with our optimized value for max_depth\n",
        "dec_tree_9 = DecisionTreeRegressor(max_depth = 9, random_state = 42)\n",
        "dec_tree_9.fit(X_train, y_train)\n",
        "train_9_score = dec_tree_9.score(X_train, y_train)\n",
        "test_9_score = dec_tree_9.score(X_test, y_test)\n",
        "print(train_9_score)\n",
        "print(test_9_score)"
      ],
      "metadata": {
        "colab": {
          "base_uri": "https://localhost:8080/"
        },
        "id": "Ui1qt3XbDzao",
        "outputId": "0a7d95ea-e9b4-4de5-a0c4-a7be6c7f12c9"
      },
      "execution_count": 20,
      "outputs": [
        {
          "output_type": "stream",
          "name": "stdout",
          "text": [
            "0.9821037319610881\n",
            "0.6845876043422093\n"
          ]
        }
      ]
    },
    {
      "cell_type": "code",
      "source": [
        " #What is the r2 of your final model on the training set and on the test set?\n",
        "# Model prediction on train data\n",
        "y_pred = reg.predict(X_train)\n",
        "print('R^2:',metrics.r2_score(y_train, y_pred))\n",
        "print('Adjusted R^2:',1 - (1-metrics.r2_score(y_train, y_pred))*(len(y_train)-1)/(len(y_train)-X_train.shape[1]-1))\n",
        "\n",
        "# Model prediction on test data\n",
        "# Predicting Test data with the model\n",
        "y_test_pred = reg.predict(X_test)\n",
        "acc_linreg = metrics.r2_score(y_test, y_test_pred)\n",
        "print('R^2:', acc_linreg)\n",
        "print('Adjusted R^2:',1 - (1-metrics.r2_score(y_test, y_test_pred))*(len(y_test)-1)/(len(y_test)-X_test.shape[1]-1))"
      ],
      "metadata": {
        "colab": {
          "base_uri": "https://localhost:8080/"
        },
        "id": "ZNU8HsDFGlYv",
        "outputId": "d680e3ea-276d-47a0-8959-33a7884c9702"
      },
      "execution_count": 23,
      "outputs": [
        {
          "output_type": "stream",
          "name": "stdout",
          "text": [
            "R^2: 1.0\n",
            "Adjusted R^2: 1.0\n",
            "R^2: 1.0\n",
            "Adjusted R^2: 1.0\n"
          ]
        }
      ]
    }
  ]
}